{
  "nbformat": 4,
  "nbformat_minor": 0,
  "metadata": {
    "colab": {
      "name": "G3v2.ipynb",
      "provenance": [],
      "collapsed_sections": []
    },
    "kernelspec": {
      "name": "python3",
      "display_name": "Python 3"
    }
  },
  "cells": [
    {
      "cell_type": "markdown",
      "metadata": {
        "id": "wwAqcRYY7uHN",
        "colab_type": "text"
      },
      "source": [
        "# Group 3 - 自動販売機\n",
        "\n",
        "```\n",
        "1.   E19C4052 \n",
        "2.   E\n",
        "3.   E\n",
        "4.   E\n",
        "5.   E\n",
        "```\n",
        "---\n",
        "![alt text](https://lh3.googleusercontent.com/rV-ynwMlreJ5JjObXY8CpQjqoqXuYz3vN_iRFbP041cT9rD1WnLPP_Sx7uWQt7BBYRlwThqfAkpA4hXZu4FKBslbebRYtX7mSW7kOe6vCNvnBsz_-0xjZtX1nV62pmhI-s6baxY_sKM_9i56Ztsst0f3MIygKlqhLxUmS0kvA20HkymYtfz286h0CKhne4OAoMPJAJIQ7HoMBa74foGQ3o7R8fyvj1gdPfkn4bQNaXeALYrZITozWGZW106ImejK3vOT06A7mqlZxYd3Z-yep1Jle1lqKI8FDMZ1Xfk8ou8147CNbm_r9eqQLDN60A4qBBY5zC8pgQxZdG_VcA0ec-ZElDSRPccE33Jqaa9XID_nJbOstEWcNa8iftTedv_8SySLdE3K0SzwnnigT7sO1ilwjtojlcPWQQHB3fepB6UtlgGZl22idYBp2lYYAJkhnRq5cHcm9ZYm7WXZNYKTkMYFiJ5nJE1HYqFtBddk-9V4g-GG8HXU0-WvFyOPZ9QIk2r0JH5gVIbYWHMKBbjIK5Avfeb1gadaFawmTQb67dAc5VFqvblyYdBpmPhCwZM0u_Zwj4Edv_ilbBQ9s1hn2ZPb_v2r-mmXrfdaBmpC0QUyCLXAz2D6fFNJHK-HdjdbhuOvXBJ9Ogcl__jvKnovxfF_hcpdhiwtuWIb2NE3T4UFw66TL4_OtA=w1140-h1596-no)"
      ]
    },
    {
      "cell_type": "code",
      "metadata": {
        "id": "x_ANzR4fslFp",
        "colab_type": "code",
        "outputId": "c3d42540-5da5-439e-8ff8-fdde8e5486a2",
        "colab": {
          "base_uri": "https://localhost:8080/",
          "height": 871
        }
      },
      "source": [
        "def vend():\n",
        "\n",
        "    a = {'nomimono': 'お茶', 'nedan': 120, 'zaiko': 22}\n",
        "    b = {'nomimono': 'ミルクティー', 'nedan': 150, 'zaiko': 15}\n",
        "    c = {'nomimono': 'ラテコーヒー', 'nedan': 200, 'zaiko': 13}\n",
        "    d = {'nomimono': 'ホット お茶', 'nedan': 120, 'zaiko': 15}\n",
        "    e = {'nomimono': 'ホット ミルクティー', 'nedan': 150, 'zaiko': 20}\n",
        "    jidouhanbaiki = [a, b, c, d, e]\n",
        "    okane = 0\n",
        "\n",
        "    print('いらっしゃませ。。。\\nご来店ありがとうございます。')\n",
        "\n",
        "    \n",
        "    def show(jidouhanbaiki):\n",
        "        print('\\nメニューです。\\n')\n",
        "\n",
        "        for nomimono in jidouhanbaiki:      \n",
        "            if nomimono.get('zaiko') == 0:\n",
        "                jidouhanbaiki.remove(nomimono)\n",
        "        for nomimono in jidouhanbaiki:\n",
        "            print(nomimono.get('nomimono'), nomimono.get('nedan'))\n",
        "\n",
        "        print('メニューの中に　一つお選びください\\n')\n",
        "\n",
        "    \n",
        "    while True:\n",
        "        show(jidouhanbaiki)\n",
        "        erabi = input('ご注文は: ')\n",
        "        for nomimono in jidouhanbaiki:\n",
        "            if erabi == nomimono.get('nomimono'):\n",
        "                erabi = nomimono               \n",
        "                nedan = erabi.get('nedan')\n",
        "                while okane < nedan:\n",
        "                    okane = float(input(str(nedan - okane) + '¥ 入れてください: '))  \n",
        "                \n",
        "                else:\n",
        "                    print('はい。'+erabi.get('nomimono')+' でございます')\n",
        "                    erabi['zaiko'] -= 1\n",
        "                    okane -= nedan\n",
        "                    print('お釣りは： ' + str(okane)+'¥　です')\n",
        "                    a = input('まだ お続けますか？ (y/n): ')\n",
        "                    if a == 'n':\n",
        "                        if okane != 0:\n",
        "                            print('はい。'+str(okane) + ' ¥ お返します。')\n",
        "                            okane = 0\n",
        "                            print('ご利用ありがとうございます!\\nまた　ご利用くださいませ')\n",
        "                            break                        \n",
        "                        else:\n",
        "                            print('ご利用ありがとうございます!\\n')\n",
        "                            break                        \n",
        "                    else:\n",
        "                        continue\n",
        "\n",
        "\n",
        "\n",
        "vend()"
      ],
      "execution_count": 0,
      "outputs": [
        {
          "output_type": "stream",
          "text": [
            "いらっしゃませ。。。\n",
            "ご来店ありがとうございます。\n",
            "\n",
            "メニューです。\n",
            "\n",
            "お茶 120\n",
            "ミルクティー 150\n",
            "ラテコーヒー 200\n",
            "ホット お茶 120\n",
            "ホット ミルクティー 150\n",
            "メニューの中に　一つお選びください\n",
            "\n",
            "ご注文は: お茶\n",
            "120¥ 入れてください: 1000\n",
            "はい。お茶 でございます\n",
            "お釣りは： 880.0¥　です\n",
            "まだ お続けますか？ (y/n): y\n",
            "\n",
            "メニューです。\n",
            "\n",
            "お茶 120\n",
            "ミルクティー 150\n",
            "ラテコーヒー 200\n",
            "ホット お茶 120\n",
            "ホット ミルクティー 150\n",
            "メニューの中に　一つお選びください\n",
            "\n",
            "ご注文は: ミルクティー\n",
            "はい。ミルクティー でございます\n",
            "お釣りは： 730.0¥　です\n",
            "まだ お続けますか？ (y/n): n\n",
            "はい。730.0 ¥ お返します。\n",
            "ご利用ありがとうございます!\n",
            "また　ご利用くださいませ\n",
            "\n",
            "メニューです。\n",
            "\n",
            "お茶 120\n",
            "ミルクティー 150\n",
            "ラテコーヒー 200\n",
            "ホット お茶 120\n",
            "ホット ミルクティー 150\n",
            "メニューの中に　一つお選びください\n",
            "\n",
            "ご注文は: お茶\n",
            "120¥ 入れてください: 500\n",
            "はい。お茶 でございます\n",
            "お釣りは： 380.0¥　です\n"
          ],
          "name": "stdout"
        }
      ]
    },
    {
      "cell_type": "code",
      "metadata": {
        "id": "F9DrKd30DEHf",
        "colab_type": "code",
        "colab": {}
      },
      "source": [
        ""
      ],
      "execution_count": 0,
      "outputs": []
    }
  ]
}