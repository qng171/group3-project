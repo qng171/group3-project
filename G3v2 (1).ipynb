{
  "nbformat": 4,
  "nbformat_minor": 0,
  "metadata": {
    "colab": {
      "name": "G3v2.ipynb",
      "provenance": [],
      "collapsed_sections": []
    },
    "kernelspec": {
      "name": "python3",
      "display_name": "Python 3"
    }
  },
  "cells": [
    {
      "cell_type": "markdown",
      "metadata": {
        "id": "wwAqcRYY7uHN",
        "colab_type": "text"
      },
      "source": [
        "# Group 3 - 自動販売機\n",
        "\n",
        "```\n",
        "1.   E19C4052 NGUYEN VAN QUYET\n",
        "2.   E19C4059\n",
        "3.   E19C4181\n",
        "4.   E19C4117\n",
        "5.   E19C4105\n",
        "```\n",
        "---\n",
        "![alt text](https://lh3.googleusercontent.com/rV-ynwMlreJ5JjObXY8CpQjqoqXuYz3vN_iRFbP041cT9rD1WnLPP_Sx7uWQt7BBYRlwThqfAkpA4hXZu4FKBslbebRYtX7mSW7kOe6vCNvnBsz_-0xjZtX1nV62pmhI-s6baxY_sKM_9i56Ztsst0f3MIygKlqhLxUmS0kvA20HkymYtfz286h0CKhne4OAoMPJAJIQ7HoMBa74foGQ3o7R8fyvj1gdPfkn4bQNaXeALYrZITozWGZW106ImejK3vOT06A7mqlZxYd3Z-yep1Jle1lqKI8FDMZ1Xfk8ou8147CNbm_r9eqQLDN60A4qBBY5zC8pgQxZdG_VcA0ec-ZElDSRPccE33Jqaa9XID_nJbOstEWcNa8iftTedv_8SySLdE3K0SzwnnigT7sO1ilwjtojlcPWQQHB3fepB6UtlgGZl22idYBp2lYYAJkhnRq5cHcm9ZYm7WXZNYKTkMYFiJ5nJE1HYqFtBddk-9V4g-GG8HXU0-WvFyOPZ9QIk2r0JH5gVIbYWHMKBbjIK5Avfeb1gadaFawmTQb67dAc5VFqvblyYdBpmPhCwZM0u_Zwj4Edv_ilbBQ9s1hn2ZPb_v2r-mmXrfdaBmpC0QUyCLXAz2D6fFNJHK-HdjdbhuOvXBJ9Ogcl__jvKnovxfF_hcpdhiwtuWIb2NE3T4UFw66TL4_OtA=w1140-h1596-no)\n",
        "\n",
        "\n",
        "---\n",
        "**まず、辞書として関数入れる、在庫の数量も入ります。\n",
        "**![alt text](https://i.imgur.com/yHeiA5Z.png)\n",
        "この辞書に沿って、メニュー出します。\n",
        "![alt text](https://i.imgur.com/rVk4XCG.png)\n",
        "**選んで買ってから、在庫の関数も減りつつあります、在庫が無くなったら、選べなくなります。**\n",
        "![alt text](https://i.imgur.com/uKBnyV7.png)\n",
        "\n",
        "\n",
        "**他のものを選場ないわけにはいけない、あるいは、買い物をキャンセルする他ない。**\n",
        "**在庫があればおかえを入れます。**\n",
        "足りなければ。。。\n",
        "![alt text](https://i.imgur.com/3890Xti.png)\n",
        "足りたら、続ける\n",
        "お釣りを出る、買い物続けると聞きます。\n",
        "![alt text](https://i.ibb.co/mv9b84n/Screen-Shot-2020-01-23-at-11-52-40.png)\n"
      ]
    },
    {
      "cell_type": "code",
      "metadata": {
        "id": "x_ANzR4fslFp",
        "colab_type": "code",
        "outputId": "6f937657-efec-4f18-f3ed-ac16648b2c73",
        "colab": {
          "base_uri": "https://localhost:8080/",
          "height": 221
        }
      },
      "source": [
        "def vend():\n",
        "\n",
        "    a = {'nomimono': 'お茶', 'nedan': 120, 'zaiko': 22}\n",
        "    b = {'nomimono': 'ミルクティー', 'nedan': 150, 'zaiko': 15}\n",
        "    c = {'nomimono': 'ラテコーヒー', 'nedan': 200, 'zaiko': 13}\n",
        "    d = {'nomimono': 'ホット お茶', 'nedan': 120, 'zaiko': 15}\n",
        "    e = {'nomimono': 'ホット ミルクティー', 'nedan': 150, 'zaiko': 20}\n",
        "    jidouhanbaiki = [a, b, c, d, e]\n",
        "    okane = 0\n",
        "\n",
        "    print('いらっしゃませ。。。\\nご来店ありがとうございます。')\n",
        "\n",
        "    \n",
        "    def show(jidouhanbaiki):\n",
        "        print('\\nメニューです。\\n')\n",
        "\n",
        "        for nomimono in jidouhanbaiki:      \n",
        "            if nomimono.get('zaiko') == 0:\n",
        "                jidouhanbaiki.remove(nomimono)\n",
        "        for nomimono in jidouhanbaiki:\n",
        "            print(nomimono.get('nomimono'), nomimono.get('nedan'))\n",
        "\n",
        "        print('メニューの中に　一つお選びください\\n')\n",
        "\n",
        "   \n",
        "    while True:\n",
        "        show(jidouhanbaiki)\n",
        "        erabi = input('ご注文は: ')\n",
        "        for nomimono in jidouhanbaiki:\n",
        "            if erabi == nomimono.get('nomimono'):\n",
        "                erabi = nomimono               \n",
        "                nedan = erabi.get('nedan')\n",
        "                while okane < nedan:\n",
        "                    okane = float(input(str(nedan - okane) + '¥ 不足です。'))  \n",
        "                \n",
        "                else:\n",
        "                    print('はい。'+erabi.get('nomimono')+' でございます')\n",
        "                    erabi['zaiko'] -= 1\n",
        "                    okane -= nedan\n",
        "                    print('お釣りは： ' + str(okane)+'¥　です')\n",
        "                    a = input('まだ お続けますか？ (y/n): ')\n",
        "                    if a == 'n':\n",
        "                        if okane != 0:\n",
        "                            print('はい。'+str(okane) + ' ¥ お返します。')\n",
        "                            okane = 0\n",
        "                            print('ご利用ありがとうございます!\\nまた　ご利用くださいませ')\n",
        "                            break                        \n",
        "                        else:\n",
        "                            print('ご利用ありがとうございます!\\n')\n",
        "                            break                        \n",
        "                    else:\n",
        "                        continue\n",
        "\n",
        "\n",
        "\n",
        "vend()"
      ],
      "execution_count": 0,
      "outputs": [
        {
          "output_type": "stream",
          "text": [
            "いらっしゃませ。。。\n",
            "ご来店ありがとうございます。\n",
            "\n",
            "メニューです。\n",
            "\n",
            "お茶 120\n",
            "ミルクティー 150\n",
            "ラテコーヒー 200\n",
            "ホット お茶 120\n",
            "ホット ミルクティー 150\n",
            "メニューの中に　一つお選びください\n",
            "\n"
          ],
          "name": "stdout"
        }
      ]
    },
    {
      "cell_type": "code",
      "metadata": {
        "id": "F9DrKd30DEHf",
        "colab_type": "code",
        "colab": {}
      },
      "source": [
        ""
      ],
      "execution_count": 0,
      "outputs": []
    }
  ]
}